{
 "cells": [
  {
   "cell_type": "code",
   "execution_count": 4,
   "metadata": {},
   "outputs": [],
   "source": [
    "import numpy as np"
   ]
  },
  {
   "cell_type": "code",
   "execution_count": 134,
   "metadata": {},
   "outputs": [],
   "source": [
    "def i_esimo_del_merge(a, b, i):\n",
    "    a = a[:i]\n",
    "    b = b[:i]\n",
    "    \n",
    "    der = len(a)\n",
    "    izq = 0\n",
    "\n",
    "    while True:\n",
    "        ind_a = (der + izq) // 2\n",
    "        ind_b = len(a)-ind_a\n",
    "        \n",
    "        if ind_a+1 < len(a) and a[ind_a+1] < b[ind_b]:\n",
    "            izq = ind_a\n",
    "        elif ind_b+1 < len(b) and b[ind_b + 1] < a[ind_a]:\n",
    "            der = ind_a\n",
    "        else:\n",
    "            break\n",
    "        \n",
    "    return max(a[ind_a], b[ind_b])"
   ]
  },
  {
   "cell_type": "code",
   "execution_count": 135,
   "metadata": {},
   "outputs": [],
   "source": [
    "a = [1,3,4,5]\n",
    "b = [2,6,7,8]\n",
    "merged = sorted(a+b)\n",
    "\n",
    "ind_a, ind_b = i_esimo_del_merge(a,b, 4)"
   ]
  },
  {
   "cell_type": "code",
   "execution_count": 136,
   "metadata": {},
   "outputs": [
    {
     "data": {
      "text/plain": [
       "3"
      ]
     },
     "execution_count": 136,
     "metadata": {},
     "output_type": "execute_result"
    }
   ],
   "source": [
    "ind_a"
   ]
  },
  {
   "cell_type": "code",
   "execution_count": 137,
   "metadata": {},
   "outputs": [
    {
     "data": {
      "text/plain": [
       "3"
      ]
     },
     "execution_count": 137,
     "metadata": {},
     "output_type": "execute_result"
    }
   ],
   "source": [
    "(der + izq) // 2"
   ]
  },
  {
   "cell_type": "code",
   "execution_count": null,
   "metadata": {},
   "outputs": [],
   "source": []
  }
 ],
 "metadata": {
  "kernelspec": {
   "display_name": "Python 3 (ipykernel)",
   "language": "python",
   "name": "python3"
  },
  "language_info": {
   "codemirror_mode": {
    "name": "ipython",
    "version": 3
   },
   "file_extension": ".py",
   "mimetype": "text/x-python",
   "name": "python",
   "nbconvert_exporter": "python",
   "pygments_lexer": "ipython3",
   "version": "3.8.10"
  }
 },
 "nbformat": 4,
 "nbformat_minor": 4
}
