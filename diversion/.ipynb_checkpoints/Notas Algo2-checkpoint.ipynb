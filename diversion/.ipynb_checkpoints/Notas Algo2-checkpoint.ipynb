{
 "cells": [
  {
   "cell_type": "code",
   "execution_count": 6,
   "id": "8503b225",
   "metadata": {},
   "outputs": [],
   "source": [
    "import pandas as pd"
   ]
  },
  {
   "cell_type": "code",
   "execution_count": 12,
   "id": "7cea2704",
   "metadata": {},
   "outputs": [],
   "source": [
    "notas = pd.read_csv(\"notas.csv\")"
   ]
  },
  {
   "cell_type": "code",
   "execution_count": 28,
   "id": "6cbd025a",
   "metadata": {},
   "outputs": [],
   "source": [
    "mañana = notas.query(\"Turno == 'Mañana'\")\n",
    "noche = notas.query(\"Turno == 'Noche'\")"
   ]
  },
  {
   "cell_type": "code",
   "execution_count": 32,
   "id": "7c685bf6",
   "metadata": {},
   "outputs": [],
   "source": [
    "mañana_aprobados = mañana.query(\"Nota == 'A'\")\n",
    "mañana_desaprobados = mañana.query(\"Nota == 'R'\")"
   ]
  },
  {
   "cell_type": "code",
   "execution_count": 33,
   "id": "dcc5ce92",
   "metadata": {},
   "outputs": [],
   "source": [
    "noche_aprobados = noche.query(\"Nota == 'A'\")\n",
    "noche_desaprobados = noche.query(\"Nota == 'R'\")"
   ]
  },
  {
   "cell_type": "code",
   "execution_count": 36,
   "id": "5a19d6cc",
   "metadata": {},
   "outputs": [
    {
     "data": {
      "text/plain": [
       "0.7073170731707317"
      ]
     },
     "execution_count": 36,
     "metadata": {},
     "output_type": "execute_result"
    }
   ],
   "source": [
    "print(\"El porcentaje de aprobados de la mañana es de\", round(len(mañana_aprobados)/len(mañana), 2))"
   ]
  },
  {
   "cell_type": "code",
   "execution_count": 41,
   "id": "79b14730",
   "metadata": {},
   "outputs": [
    {
     "name": "stdout",
     "output_type": "stream",
     "text": [
      "El porcentaje de aprobados de la noche es de 0.59\n"
     ]
    }
   ],
   "source": [
    "print(\"El porcentaje de aprobados de la noche es de\", round(len(noche_aprobados)/len(noche), 2))\n"
   ]
  },
  {
   "cell_type": "code",
   "execution_count": null,
   "id": "2f76f46e",
   "metadata": {},
   "outputs": [],
   "source": []
  }
 ],
 "metadata": {
  "kernelspec": {
   "display_name": "Python 3 (ipykernel)",
   "language": "python",
   "name": "python3"
  },
  "language_info": {
   "codemirror_mode": {
    "name": "ipython",
    "version": 3
   },
   "file_extension": ".py",
   "mimetype": "text/x-python",
   "name": "python",
   "nbconvert_exporter": "python",
   "pygments_lexer": "ipython3",
   "version": "3.8.10"
  }
 },
 "nbformat": 4,
 "nbformat_minor": 5
}
