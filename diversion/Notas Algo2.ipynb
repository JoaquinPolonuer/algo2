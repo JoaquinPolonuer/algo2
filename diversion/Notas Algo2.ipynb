{
 "cells": [
  {
   "cell_type": "code",
   "execution_count": 43,
   "id": "947c6db2",
   "metadata": {},
   "outputs": [],
   "source": [
    "import pandas as pd"
   ]
  },
  {
   "cell_type": "code",
   "execution_count": 44,
   "id": "0542651a",
   "metadata": {},
   "outputs": [],
   "source": [
    "notas = pd.read_csv(\"notas.csv\")"
   ]
  },
  {
   "cell_type": "code",
   "execution_count": 45,
   "id": "0c21f503",
   "metadata": {},
   "outputs": [],
   "source": [
    "mañana = notas.query(\"Turno == 'Mañana'\")\n",
    "noche = notas.query(\"Turno == 'Noche'\")"
   ]
  },
  {
   "cell_type": "code",
   "execution_count": 46,
   "id": "e9cca54b",
   "metadata": {},
   "outputs": [],
   "source": [
    "mañana_aprobados = mañana.query(\"Nota == 'A'\")\n",
    "noche_aprobados = noche.query(\"Nota == 'A'\")"
   ]
  },
  {
   "cell_type": "code",
   "execution_count": 47,
   "id": "d231dde3",
   "metadata": {},
   "outputs": [
    {
     "name": "stdout",
     "output_type": "stream",
     "text": [
      "El porcentaje de aprobados de la mañana es de 0.71\n"
     ]
    }
   ],
   "source": [
    "print(\"El porcentaje de aprobados de la mañana es de\", round(len(mañana_aprobados)/len(mañana), 2))"
   ]
  },
  {
   "cell_type": "code",
   "execution_count": 48,
   "id": "9e5577cd",
   "metadata": {},
   "outputs": [
    {
     "name": "stdout",
     "output_type": "stream",
     "text": [
      "El porcentaje de aprobados de la noche es de 0.59\n"
     ]
    }
   ],
   "source": [
    "print(\"El porcentaje de aprobados de la noche es de\", round(len(noche_aprobados)/len(noche), 2))\n"
   ]
  },
  {
   "cell_type": "code",
   "execution_count": null,
   "id": "e6e6ddc1",
   "metadata": {},
   "outputs": [],
   "source": []
  }
 ],
 "metadata": {
  "kernelspec": {
   "display_name": "Python 3 (ipykernel)",
   "language": "python",
   "name": "python3"
  },
  "language_info": {
   "codemirror_mode": {
    "name": "ipython",
    "version": 3
   },
   "file_extension": ".py",
   "mimetype": "text/x-python",
   "name": "python",
   "nbconvert_exporter": "python",
   "pygments_lexer": "ipython3",
   "version": "3.8.10"
  }
 },
 "nbformat": 4,
 "nbformat_minor": 5
}
